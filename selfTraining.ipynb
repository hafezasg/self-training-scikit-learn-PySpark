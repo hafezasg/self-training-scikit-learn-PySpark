{
 "cells": [
  {
   "cell_type": "code",
   "execution_count": 1,
   "metadata": {
    "collapsed": false
   },
   "outputs": [
    {
     "name": "stdout",
     "output_type": "stream",
     "text": [
      "C:\\Users\\hafez\\Desktop\\selfTraining\\python code\n"
     ]
    }
   ],
   "source": [
    "import os\n",
    "print(os.getcwd())\n",
    "import numpy as np\n",
    "import random\n",
    "from sklearn.datasets.mldata import fetch_mldata\n",
    "from sklearn.linear_model.stochastic_gradient import SGDClassifier\n",
    "import sklearn.svm\n",
    "import matplotlib.pyplot as plt\n",
    "%matplotlib inline\n",
    "\n"
   ]
  },
  {
   "cell_type": "code",
   "execution_count": 2,
   "metadata": {
    "collapsed": false
   },
   "outputs": [],
   "source": [
    "from sklearn import datasets\n",
    "iris = datasets.load_iris()\n",
    "\n",
    "X= iris.data\n",
    "Y= iris.target\n"
   ]
  },
  {
   "cell_type": "code",
   "execution_count": 3,
   "metadata": {
    "collapsed": false
   },
   "outputs": [
    {
     "name": "stdout",
     "output_type": "stream",
     "text": [
      "[ 0.92461621  0.05301557]\n"
     ]
    }
   ],
   "source": [
    "#PCA\n",
    "from sklearn import decomposition\n",
    "pca = decomposition.PCA(n_components=2)\n",
    "pca.fit(X)\n",
    "X = pca.transform(X)\n",
    "print(pca.explained_variance_ratio_) "
   ]
  },
  {
   "cell_type": "code",
   "execution_count": 4,
   "metadata": {
    "collapsed": false
   },
   "outputs": [
    {
     "name": "stdout",
     "output_type": "stream",
     "text": [
      "(150, 2)\n",
      "['sepal length (cm)', 'sepal width (cm)', 'petal length (cm)', 'petal width (cm)']\n",
      "['setosa' 'versicolor' 'virginica']\n"
     ]
    }
   ],
   "source": [
    "print(X.shape)\n",
    "print(iris.feature_names)\n",
    "print(iris.target_names)"
   ]
  },
  {
   "cell_type": "code",
   "execution_count": 5,
   "metadata": {
    "collapsed": false
   },
   "outputs": [],
   "source": [
    "rng = np.random.RandomState(10)\n",
    "ratio=0.85\n",
    "YSemi = np.copy(Y)\n",
    "YSemi[rng.rand(len(Y)) < ratio] = -1\n"
   ]
  },
  {
   "cell_type": "code",
   "execution_count": 6,
   "metadata": {
    "collapsed": false
   },
   "outputs": [
    {
     "name": "stdout",
     "output_type": "stream",
     "text": [
      "Labeld accuracy= 1.0  , Unlabeled ratio= 0.88\n"
     ]
    }
   ],
   "source": [
    "from sklearn import svm\n",
    "model=svm.SVC(probability=True,C=1.0)\n",
    "\n",
    "unlabeledX = X[YSemi==-1,:]\n",
    "YTrue = Y[YSemi==-1]\n",
    "\n",
    "idx = np.where(YSemi!=-1)[0]\n",
    "labeledX = X[idx,:]\n",
    "labeledY = YSemi[idx]\n",
    "\n",
    "clf=model.fit(labeledX, labeledY)\n",
    "unlabeledY = clf.predict(unlabeledX)\n",
    "unlabeledProb = clf.predict_proba(unlabeledX).max(axis=1)\n",
    "\n",
    "ratioInitial=1-(len(labeledY)/len(Y))\n",
    "score=sklearn.metrics.accuracy_score(labeledY,clf.predict(labeledX))\n",
    "print(\"Labeld accuracy=\",score,\" , Unlabeled ratio=\",ratioInitial)"
   ]
  },
  {
   "cell_type": "code",
   "execution_count": 7,
   "metadata": {
    "collapsed": false
   },
   "outputs": [
    {
     "name": "stdout",
     "output_type": "stream",
     "text": [
      "iteration= 42   unlabeled accuracy= 0.94696969697 On initial unlabeled ratio of 0.88\n"
     ]
    },
    {
     "data": {
      "image/png": "[encoded data removed]",
      "text/plain": [
       "<matplotlib.figure.Figure at 0x19ad5d4ca58>"
      ]
     },
     "metadata": {},
     "output_type": "display_data"
    }
   ],
   "source": [
    "max_iter = 500\n",
    "probThreshold = 0.9\n",
    "\n",
    "unlabeledXOrg=np.copy(unlabeledX)\n",
    "YTrueOrg=np.copy(YTrue)\n",
    "\n",
    "rr=[]\n",
    "it=[]\n",
    "\n",
    "i = 0\n",
    "while (i < max_iter and score>0.01):\n",
    "    \n",
    "    score=sklearn.metrics.accuracy_score(YTrue,unlabeledY)\n",
    "    ratio=1-(len(labeledY)/len(Y))\n",
    "    #print(\"iteration=\",i,\" Unlabeled ratio=\", ratio)\n",
    "    rr.append(ratio); it.append(i)\n",
    "    \n",
    "    labelidx = np.where(unlabeledProb >  probThreshold)[0]\n",
    "    unlabelidx = np.where(unlabeledProb <=  probThreshold)[0]\n",
    "    \n",
    "    labeledX=np.vstack((labeledX, unlabeledX[labelidx, :]))\n",
    "    labeledY=np.hstack((labeledY, unlabeledY[labelidx]))\n",
    "    unlabeledX=unlabeledX[unlabelidx, :]\n",
    "    YTrue = Y[unlabelidx]\n",
    "\n",
    "    clf=model.fit(labeledX,labeledY)\n",
    "    unlabeledY = clf.predict(unlabeledX)\n",
    "    unlabeledProb = clf.predict_proba(unlabeledX).max(axis=1)\n",
    "    i += 1\n",
    "    \n",
    "    \n",
    "    \n",
    "fig=plt.figure()\n",
    "title=\"Probability threshold=\"+str(probThreshold)\n",
    "plt.title(title)\n",
    "plt.xlabel(\"Iteration\")\n",
    "plt.ylabel(\"Unlabeled data ratio to all data\")\n",
    "plt.plot(it,rr, 'o-', color=\"r\")\n",
    "fig.savefig('1.png')\n",
    "\n",
    "score=sklearn.metrics.accuracy_score(YTrueOrg,clf.predict(unlabeledXOrg))\n",
    "print(\"iteration=\",i,\"  unlabeled accuracy=\", score , \"On initial unlabeled ratio of\",ratioInitial)\n"
   ]
  },
  {
   "cell_type": "code",
   "execution_count": 8,
   "metadata": {
    "collapsed": false
   },
   "outputs": [
    {
     "data": {
      "image/png": "[encoded data removed]",
      "text/plain": [
       "<matplotlib.figure.Figure at 0x19ad5d33d30>"
      ]
     },
     "metadata": {},
     "output_type": "display_data"
    }
   ],
   "source": [
    "#Assumption cost per label = $5.0\n",
    "costPerlabel=5.0\n",
    "probTh=np.array([0.6,0.65,0.7,0.75,0.8,0.85,0.9,0.925,0.95])\n",
    "ratioToBeLabeled=np.array([0.0067,0.04,0.053,0.0867,0.093,0.1,0.153,0.473,0.88])\n",
    "cost=ratioToBeLabeled*len(Y)*costPerlabel\n",
    "\n",
    "fig=plt.figure()\n",
    "plt.title(\"Labeled accuracy vs Human expert cost\")\n",
    "plt.xlabel(\"Probability thershhold\")\n",
    "plt.ylabel(\"Human expert cost ($)\")\n",
    "plt.plot(probTh,cost, 'o-', color=\"b\")\n",
    "fig.savefig('2.png')"
   ]
  },
  {
   "cell_type": "code",
   "execution_count": 9,
   "metadata": {
    "collapsed": false
   },
   "outputs": [
    {
     "data": {
      "image/png": "[encoded data removed]",
      "text/plain": [
       "<matplotlib.figure.Figure at 0x19ad5d33b70>"
      ]
     },
     "metadata": {},
     "output_type": "display_data"
    }
   ],
   "source": [
    "intialUnlabeledratio=np.array([0.5,0.6,0.75,0.84,0.88,0.926,0.966])\n",
    "ratioToBeLabeled=np.array([0.07,0.12,0.153,0.147,0.153,0.24,0.966])\n",
    "\n",
    "fig=plt.figure()\n",
    "plt.title(\"Probability threshold=0.9\")\n",
    "plt.xlabel(\"Initial unlabeled data ratio\")\n",
    "plt.ylabel(\"Data ratio required to be labeled with determined Prob. thresh.\")\n",
    "plt.plot(intialUnlabeledratio,ratioToBeLabeled, 'o-', color=\"g\")\n",
    "fig.savefig('3.png')"
   ]
  },
  {
   "cell_type": "code",
   "execution_count": 10,
   "metadata": {
    "collapsed": false
   },
   "outputs": [
    {
     "name": "stdout",
     "output_type": "stream",
     "text": [
      "unlabeled accuracy= 0.893939393939 On initial unlabeled ratio of 0.88  using label propagation method from sklearn\n"
     ]
    }
   ],
   "source": [
    "from sklearn.semi_supervised import label_propagation\n",
    "import matplotlib.pyplot as plt\n",
    "\n",
    "lp_model = label_propagation.LabelSpreading(gamma=0.25, max_iter=200)\n",
    "lp_model.fit(X, YSemi)\n",
    "\n",
    "predicted_labels = lp_model.transduction_[YSemi==-1]\n",
    "true_labels = Y[YSemi==-1]\n",
    "\n",
    "\n",
    "score=sklearn.metrics.accuracy_score(true_labels,predicted_labels)\n",
    "print(\"unlabeled accuracy=\", score , \"On initial unlabeled ratio of\",ratioInitial,\" using label propagation method from sklearn\")"
   ]
  }
 ],
 "metadata": {
  "kernelspec": {
   "display_name": "Python 3",
   "language": "python",
   "name": "python3"
  },
  "language_info": {
   "codemirror_mode": {
    "name": "ipython",
    "version": 3
   },
   "file_extension": ".py",
   "mimetype": "text/x-python",
   "name": "python",
   "nbconvert_exporter": "python",
   "pygments_lexer": "ipython3",
   "version": "3.6.0"
  }
 },
 "nbformat": 4,
 "nbformat_minor": 2
}
