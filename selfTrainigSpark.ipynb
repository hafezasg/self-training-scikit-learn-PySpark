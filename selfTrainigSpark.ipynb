{
 "cells": [
  {
   "cell_type": "code",
   "execution_count": 1,
   "metadata": {
    "collapsed": false
   },
   "outputs": [
    {
     "data": {
      "text/plain": [
       "'2.2.0'"
      ]
     },
     "execution_count": 1,
     "metadata": {},
     "output_type": "execute_result"
    }
   ],
   "source": [
    "sc = SparkContext.getOrCreate()\n",
    "sc.version"
   ]
  },
  {
   "cell_type": "code",
   "execution_count": 2,
   "metadata": {
    "collapsed": false
   },
   "outputs": [
    {
     "name": "stdout",
     "output_type": "stream",
     "text": [
      "start time= 12:09:21.675799\n"
     ]
    }
   ],
   "source": [
    "from pyspark.mllib.regression import LabeledPoint\n",
    "import datetime\n",
    "start=datetime.datetime.now().time()\n",
    "print(\"start time=\",start)\n",
    "\n",
    "def parsePoint(line):\n",
    "    values = [float(x) for x in line.split(',')]\n",
    "    return LabeledPoint(values[0], values[1:])\n",
    "\n",
    "data = sc.textFile(\".//irisdata.csv\")\n",
    "XY = data.map(parsePoint)\n",
    "\n",
    "#print(XY.count())\n"
   ]
  },
  {
   "cell_type": "code",
   "execution_count": 3,
   "metadata": {
    "collapsed": false
   },
   "outputs": [],
   "source": [
    "ratio=0.85\n",
    "unlabeledXY, labeledXY = XY.randomSplit([ratio,1-ratio], seed = 100)\n",
    "\n",
    "#print(unlabeledXY.count())"
   ]
  },
  {
   "cell_type": "code",
   "execution_count": 4,
   "metadata": {
    "collapsed": false
   },
   "outputs": [
    {
     "name": "stderr",
     "output_type": "stream",
     "text": [
      "C:\\Spark\\spark-2.2.0-bin-hadoop2.7\\python\\pyspark\\mllib\\classification.py:313: UserWarning: Deprecated in 2.0.0. Use ml.classification.LogisticRegression or LogisticRegressionWithLBFGS.\n",
      "  \"Deprecated in 2.0.0. Use ml.classification.LogisticRegression or \"\n"
     ]
    },
    {
     "name": "stdout",
     "output_type": "stream",
     "text": [
      "Labeled accuracy =  1.0\n"
     ]
    }
   ],
   "source": [
    "# Build the model : works on only binary data\n",
    "from pyspark.mllib.classification import SVMWithSGD,LogisticRegressionWithSGD,LogisticRegressionWithLBFGS\n",
    "\n",
    "model = LogisticRegressionWithSGD.train(labeledXY)\n",
    "\n",
    "# Evaluating the model on labeled data\n",
    "labelAndPred = labeledXY.map(lambda p: (p.label, model.predict(p.features)))\n",
    "score =1-(labelAndPred.filter(lambda lp: lp[0] != lp[1]).count() / float(labelAndPred.count()+1))\n",
    "print(\"Labeled accuracy = \", score)"
   ]
  },
  {
   "cell_type": "code",
   "execution_count": 5,
   "metadata": {
    "collapsed": false
   },
   "outputs": [],
   "source": [
    "# Evaluating the model on unlabeled data\n",
    "labelAndPred = unlabeledXY.map(lambda p: (p.label, model.predict(p.features)))\n",
    "score = 1-(labelAndPred.filter(lambda lp: lp[0] != lp[1]).count() / float(labelAndPred.count()+1))\n",
    "\n",
    "unlabeledProb=unlabeledXY.map(lambda p: sum(model.weights*p.features))\n",
    "unlabeledProb=unlabeledProb.map(lambda p: 1./(1+np.exp(-p)))\n",
    "    \n"
   ]
  },
  {
   "cell_type": "code",
   "execution_count": 6,
   "metadata": {
    "collapsed": false
   },
   "outputs": [
    {
     "name": "stdout",
     "output_type": "stream",
     "text": [
      "iteration= 0  Unlabeled ratio= 0.86\n"
     ]
    },
    {
     "name": "stderr",
     "output_type": "stream",
     "text": [
      "C:\\Spark\\spark-2.2.0-bin-hadoop2.7\\python\\pyspark\\mllib\\classification.py:313: UserWarning: Deprecated in 2.0.0. Use ml.classification.LogisticRegression or LogisticRegressionWithLBFGS.\n",
      "  \"Deprecated in 2.0.0. Use ml.classification.LogisticRegression or \"\n"
     ]
    },
    {
     "name": "stdout",
     "output_type": "stream",
     "text": [
      "iteration= 1  Unlabeled ratio= 0.44999999999999996\n",
      "iteration= 2  Unlabeled ratio= 0.44999999999999996\n",
      "iteration= 3  Unlabeled ratio= 0.44999999999999996\n",
      "iteration= 4  Unlabeled ratio= 0.44999999999999996\n"
     ]
    }
   ],
   "source": [
    "import numpy as np\n",
    "\n",
    "max_iter = 5\n",
    "probThreshold = 0.9\n",
    "\n",
    "i = 0\n",
    "while (i < max_iter and score>0.01):\n",
    "    \n",
    "    labelAndPred = unlabeledXY.map(lambda p: (p.label, model.predict(p.features)))\n",
    "    score = 1-(labelAndPred.filter(lambda lp: lp[0] != lp[1]).count() / float(labelAndPred.count()+1))\n",
    "    ratio=1-(labeledXY.count()/XY.count())\n",
    "    print(\"iteration=\",i,\" Unlabeled ratio=\", ratio)\n",
    "\n",
    "    labelidxy = unlabeledProb.map(lambda p: p >  probThreshold).zipWithIndex().filter(lambda p: p[0]==True).map(lambda p: p[1])\n",
    "    unlabelidxy = unlabeledProb.map(lambda p: p <=  probThreshold).zipWithIndex().filter(lambda p: p[0]==True).map(lambda p: p[1])\n",
    "\n",
    "    xx=labelidxy.collect() \n",
    "    unlabelAdd=unlabeledXY.zipWithIndex().filter(lambda p: p[1] in xx).map(lambda p: p[0])\n",
    "    labeledXY=labeledXY.union(unlabelAdd)\n",
    "\n",
    "    xx=unlabelidxy.collect() \n",
    "    unlabeledXY=unlabeledXY.zipWithIndex().filter(lambda p: p[1] in xx).map(lambda p: p[0])\n",
    "    \n",
    "    model = LogisticRegressionWithSGD.train(labeledXY)\n",
    "    unlabeledProb=unlabeledXY.map(lambda p: sum(model.weights*p.features))\n",
    "    unlabeledProb=unlabeledProb.map(lambda p: 1./(1+np.exp(-p)))\n",
    "    \n",
    "    i += 1\n",
    "\n"
   ]
  },
  {
   "cell_type": "code",
   "execution_count": 7,
   "metadata": {
    "collapsed": false
   },
   "outputs": [
    {
     "name": "stdout",
     "output_type": "stream",
     "text": [
      "end time= 12:13:12.251217\n",
      "231\n"
     ]
    }
   ],
   "source": [
    "end=datetime.datetime.now().time()\n",
    "print(\"end time=\",end)\n",
    "\n",
    "def duration(te,ts):\n",
    "    ds=ts.second+ts.minute*60+ts.hour*3600\n",
    "    de=te.second+te.minute*60+te.hour*3600\n",
    "    return(de-ds)\n",
    "print(duration(end,start))\n"
   ]
  }
 ],
 "metadata": {
  "kernelspec": {
   "display_name": "Python 3",
   "language": "python",
   "name": "python3"
  },
  "language_info": {
   "codemirror_mode": {
    "name": "ipython",
    "version": 3
   },
   "file_extension": ".py",
   "mimetype": "text/x-python",
   "name": "python",
   "nbconvert_exporter": "python",
   "pygments_lexer": "ipython3",
   "version": "3.6.0"
  }
 },
 "nbformat": 4,
 "nbformat_minor": 2
}
